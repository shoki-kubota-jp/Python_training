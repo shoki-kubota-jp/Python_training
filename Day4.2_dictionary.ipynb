{
 "cells": [
  {
   "cell_type": "markdown",
   "metadata": {},
   "source": [
    "### DIctionary\n",
    "Store mixed & multipe values\n",
    "- key and value pairs"
   ]
  },
  {
   "cell_type": "code",
   "execution_count": 23,
   "metadata": {},
   "outputs": [
    {
     "data": {
      "text/plain": [
       "dict_values(['Monkey D Luffy', 21, 'mugiwara', ['zore', 'nami'], 'captain'])"
      ]
     },
     "execution_count": 23,
     "metadata": {},
     "output_type": "execute_result"
    }
   ],
   "source": [
    "luff = {\n",
    "    \"name\": \"Monkey D Luffy\",\n",
    "    \"age\": 19,\n",
    "    \"crew name\": \"mugiwara\",\n",
    "    \"crew\": [\"zore\", \"nami\"],\n",
    "    \"position\": \"captain\",\n",
    "}\n",
    "\n",
    "# key name,age,...\n",
    "# value \"Monkey D Luffy\",19,..\n",
    "\n",
    "luff[\"age\"] = 20\n",
    "luff[\"age\"] = luff[\"age\"] + 1\n",
    "luff.keys()\n",
    "luff.values()"
   ]
  },
  {
   "cell_type": "code",
   "execution_count": null,
   "metadata": {},
   "outputs": [
    {
     "data": {
      "text/plain": [
       "dict_keys(['name', 'age', 'crew name', 'crew', 'position'])"
      ]
     },
     "execution_count": 29,
     "metadata": {},
     "output_type": "execute_result"
    }
   ],
   "source": [
    "luff"
   ]
  },
  {
   "cell_type": "markdown",
   "metadata": {},
   "source": [
    "## Task 1.1\n",
    "Please provide the list of book titles\n",
    "\n",
    "\n",
    "```python\n",
    "books = [\n",
    "    {\"title\": \"Infinite Jest\", \"rating\": 4.5, \"genre\": \"Fiction\"},\n",
    "    {\"title\": \"The Catcher in the Rye\", \"rating\": 3.9, \"genre\": \"Fiction\"},\n",
    "    {\"title\": \"Sapiens\", \"rating\": 4.9, \"genre\": \"History\"},\n",
    "    {\"title\": \"A Brief History of Time\", \"rating\": 4.8, \"genre\": \"Science\"},\n",
    "    {\"title\": \"Clean Code\", \"rating\": 4.7, \"genre\": \"Technology\"},\n",
    "]\n",
    "\n",
    "```\n",
    "\n",
    "### Expected Output\n",
    "```\n",
    "[\"Infinite Jest\",  \"The Catcher in the Rye\", \"S..."
   ]
  },
  {
   "cell_type": "code",
   "execution_count": 41,
   "metadata": {},
   "outputs": [
    {
     "name": "stdout",
     "output_type": "stream",
     "text": [
      "Infinite Jest\n",
      "The Catcher in the Rye\n",
      "Sapiens\n",
      "A Brief History of Time\n",
      "Clean Code\n",
      "['Infinite Jest', 'The Catcher in the Rye', 'Sapiens', 'A Brief History of Time', 'Clean Code']\n"
     ]
    }
   ],
   "source": [
    "books = [\n",
    "    {\"title\": \"Infinite Jest\", \"rating\": 4.5, \"genre\": \"Fiction\"},\n",
    "    {\"title\": \"The Catcher in the Rye\", \"rating\": 3.9, \"genre\": \"Fiction\"},\n",
    "    {\"title\": \"Sapiens\", \"rating\": 4.9, \"genre\": \"History\"},\n",
    "    {\"title\": \"A Brief History of Time\", \"rating\": 4.8, \"genre\": \"Science\"},\n",
    "    {\"title\": \"Clean Code\", \"rating\": 4.7, \"genre\": \"Technology\"},\n",
    "]\n",
    "\n",
    "titles = []\n",
    "\n",
    "for book in books:\n",
    "    titles.append(book[\"title\"])\n",
    "    print(book[\"title\"])\n",
    "    \n",
    "print(titles)\n"
   ]
  },
  {
   "cell_type": "markdown",
   "metadata": {},
   "source": [
    "## Task 1.2\n",
    "Please provide the only Fiction books\n",
    "\n",
    "\n",
    "### Expected Output\n",
    "```\n",
    "[\"Infinite Jest\",  \"The Catcher in the Rye\"]\n",
    "```\n",
    "## Task 1.3\n",
    "Please provide Highest rated books (>= 4.7)\n",
    "\n",
    "\n",
    "### Expected Output\n",
    "```\n",
    "Highest rated books are: Sapiens, A Brief History of Time and Clean Code \n",
    "```"
   ]
  },
  {
   "cell_type": "code",
   "execution_count": null,
   "metadata": {},
   "outputs": [],
   "source": [
    "books = [\n",
    "    {\"title\": \"Infinite Jest\", \"rating\": 4.5, \"genre\": \"Fiction\"},\n",
    "    {\"title\": \"The Catcher in the Rye\", \"rating\": 3.9, \"genre\": \"Fiction\"},\n",
    "    {\"title\": \"Sapiens\", \"rating\": 4.9, \"genre\": \"History\"},\n",
    "    {\"title\": \"A Brief History of Time\", \"rating\": 4.8, \"genre\": \"Science\"},\n",
    "    {\"title\": \"Clean Code\", \"rating\": 4.7, \"genre\": \"Technology\"},\n",
    "]\n",
    "\n",
    "titles = []\n",
    "\n",
    "for book in books:\n",
    "    if book.keys(\"\")\n",
    "    titles.append(book[\"title\"])\n",
    "    print(book[\"title\"])\n",
    "    \n",
    "print(titles)"
   ]
  }
 ],
 "metadata": {
  "kernelspec": {
   "display_name": "Python 3",
   "language": "python",
   "name": "python3"
  },
  "language_info": {
   "codemirror_mode": {
    "name": "ipython",
    "version": 3
   },
   "file_extension": ".py",
   "mimetype": "text/x-python",
   "name": "python",
   "nbconvert_exporter": "python",
   "pygments_lexer": "ipython3",
   "version": "3.13.0"
  }
 },
 "nbformat": 4,
 "nbformat_minor": 2
}
