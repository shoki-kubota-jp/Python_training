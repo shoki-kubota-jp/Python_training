{
 "cells": [
  {
   "cell_type": "code",
   "execution_count": 1,
   "metadata": {},
   "outputs": [
    {
     "name": "stdout",
     "output_type": "stream",
     "text": [
      "------  --  ---\n",
      "Apple   30  0.5\n",
      "Banana  20  0.2\n",
      "------  --  ---\n",
      "name      quantity    price\n",
      "------  ----------  -------\n",
      "Apple           30      0.5\n",
      "Banana          20      0.2\n",
      "+--------+----------+-------+\n",
      "|  name  | quantity | price |\n",
      "+--------+----------+-------+\n",
      "| Apple  |    30    |  0.5  |\n",
      "| Banana |    20    |  0.2  |\n",
      "+--------+----------+-------+\n"
     ]
    }
   ],
   "source": [
    "from tabulate import tabulate\n",
    "\n",
    "shop = [\n",
    "    {\"name\": \"Apple\", \"quantity\": 30, \"price\": 0.50},  # 15\n",
    "    {\"name\": \"Banana\", \"quantity\": 20, \"price\": 0.20},  # 4\n",
    "]\n",
    "\n",
    "print(tabulate(shop))\n",
    "print(tabulate(shop, headers=\"keys\"))\n",
    "print(tabulate(shop, headers=\"keys\", tablefmt=\"pretty\"))"
   ]
  }
 ],
 "metadata": {
  "kernelspec": {
   "display_name": "myenv",
   "language": "python",
   "name": "python3"
  },
  "language_info": {
   "codemirror_mode": {
    "name": "ipython",
    "version": 3
   },
   "file_extension": ".py",
   "mimetype": "text/x-python",
   "name": "python",
   "nbconvert_exporter": "python",
   "pygments_lexer": "ipython3",
   "version": "3.13.0"
  }
 },
 "nbformat": 4,
 "nbformat_minor": 2
}
