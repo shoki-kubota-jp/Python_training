{
 "cells": [
  {
   "cell_type": "markdown",
   "metadata": {},
   "source": [
    "### List\n",
    "hold multiple values\n",
    "\n",
    "# CRUD\n",
    "- Create ✅  - `marks = [80, 90, 100, 60, 85]`\n",
    "- Read   ✅  - `index`, `negative index` & `slice (:)`\n",
    "- Update ✅  - `index`, `append` &  `insert` \n",
    "- Delete ✅  - `remove` & `pop\n"
   ]
  },
  {
   "cell_type": "markdown",
   "metadata": {},
   "source": [
    "#### create"
   ]
  },
  {
   "cell_type": "code",
   "execution_count": null,
   "metadata": {},
   "outputs": [],
   "source": [
    "mark1 = [10, 11, 23, 59]\n",
    "print(mark1)"
   ]
  },
  {
   "cell_type": "markdown",
   "metadata": {},
   "source": [
    "#### read\n",
    "- index\n",
    "- negative\n",
    "- slice"
   ]
  },
  {
   "cell_type": "code",
   "execution_count": null,
   "metadata": {},
   "outputs": [],
   "source": [
    "mark1 = [10, 11, 23, 59, 10]\n",
    "mark1[1]\n",
    "mark1[-1]\n",
    "mark1[2:]\n",
    "mark1[::-1]"
   ]
  },
  {
   "cell_type": "markdown",
   "metadata": {},
   "source": [
    "#### update"
   ]
  },
  {
   "cell_type": "code",
   "execution_count": null,
   "metadata": {},
   "outputs": [],
   "source": [
    "mark1[1] = 25 # index update\n",
    "mark1"
   ]
  },
  {
   "cell_type": "code",
   "execution_count": null,
   "metadata": {},
   "outputs": [],
   "source": [
    "mark1.append(99) # always adds at last\n",
    "mark1"
   ]
  },
  {
   "cell_type": "code",
   "execution_count": null,
   "metadata": {},
   "outputs": [],
   "source": [
    "mark1.insert(0, 100) # .insert(index, values)\n",
    "mark1"
   ]
  },
  {
   "cell_type": "markdown",
   "metadata": {},
   "source": [
    "#### delete\n",
    "- pop\n",
    "- remove"
   ]
  },
  {
   "cell_type": "code",
   "execution_count": null,
   "metadata": {},
   "outputs": [],
   "source": [
    "mark1.pop(2)  # remove on index\n",
    "mark1"
   ]
  },
  {
   "cell_type": "code",
   "execution_count": null,
   "metadata": {},
   "outputs": [],
   "source": [
    "mark1.remove(10)\n",
    "mark1"
   ]
  },
  {
   "cell_type": "markdown",
   "metadata": {},
   "source": []
  },
  {
   "cell_type": "code",
   "execution_count": null,
   "metadata": {},
   "outputs": [],
   "source": [
    "characters = ['Hello kitty', 'Goku', 'Pikachu', 'Luffy', 'Yuji Itadori', \"Levi\"]\n",
    "\n",
    "type(characters[0])\n",
    "\n",
    "for i in range(6):\n",
    "    print(i, characters[i], len(characters[i]))\n",
    "\n"
   ]
  },
  {
   "cell_type": "code",
   "execution_count": null,
   "metadata": {},
   "outputs": [],
   "source": [
    "# Clue: len() both of list and string\n",
    "\n",
    "len(characters)\n",
    "\n",
    "for i in range(len(characters)):\n",
    "    print(i, characters[i])\n"
   ]
  },
  {
   "cell_type": "code",
   "execution_count": 20,
   "metadata": {},
   "outputs": [
    {
     "name": "stdout",
     "output_type": "stream",
     "text": [
      "<class 'int'>\n"
     ]
    }
   ],
   "source": [
    "# Task 1.1: Double the power\n",
    "powers = [2000, 3000, 4000, 1500, 4500]\n",
    "\n",
    "for i in range(0, len(powers)):\n",
    "    powers[i] = powers[i]*2\n",
    "\n",
    "powers\n",
    "\n",
    "print(type(powers[0]))\n",
    "# Output\n",
    "# powers -> [4000, 6000, 8000, 3000, 9000]\n",
    "\n"
   ]
  },
  {
   "cell_type": "code",
   "execution_count": null,
   "metadata": {},
   "outputs": [],
   "source": [
    "# Task 1.2: Double the power\n",
    "powers = [2000, 3000, 4000, 1500, 4500]\n",
    "doubled_powers =[]\n",
    "\n",
    "for i in range(0, len(powers)):\n",
    "    doubled_powers.append(powers[i]*2)\n",
    "\n",
    "powers\n",
    "doubled_powers\n",
    "\n",
    "\n",
    "# Output\n",
    "# doubled_powers -> [4000, 6000, 8000, 3000, 9000]\n",
    "# powers -> [2000, 3000, 4000, 1500, 4500]"
   ]
  },
  {
   "cell_type": "markdown",
   "metadata": {},
   "source": [
    "## Task 2.1\n",
    "Find longer names (>= 6 letter)\n",
    "\n",
    "`characters = ['Hello kitty', 'Goku', 'Pikachu', 'Luffy', 'Yuji Itadori', \"Levi\"]`\n",
    "\n",
    "Expected Output\n",
    "`['Hello kitty', 'Pikachu', 'Yuji Itadori']`\n"
   ]
  },
  {
   "cell_type": "code",
   "execution_count": 62,
   "metadata": {},
   "outputs": [
    {
     "data": {
      "text/plain": [
       "['Hello kitty', 'Pikachu', 'Yuji Itadori']"
      ]
     },
     "execution_count": 62,
     "metadata": {},
     "output_type": "execute_result"
    }
   ],
   "source": [
    "characters = ['Hello kitty', 'Goku', 'Pikachu', 'Luffy', 'Yuji Itadori', \"Levi\"]\n",
    "longer_names = []\n",
    "\n",
    "for i in range(len(characters)):\n",
    "    if len(characters[i]) >= 6:\n",
    "        longer_names.append(characters[i])\n",
    "    \n",
    "\n",
    "longer_names\n"
   ]
  },
  {
   "cell_type": "code",
   "execution_count": null,
   "metadata": {},
   "outputs": [],
   "source": [
    "characters = ['Hello kitty', 'Goku', 'Pikachu', 'Luffy', 'Yuji Itadori', \"Levi\"]\n",
    "longer_names = []\n",
    "\n",
    "for i in characters:\n",
    "    if len(i) >= 6:\n",
    "        longer_names.append(i)\n",
    "        \n",
    "longer_names\n"
   ]
  },
  {
   "cell_type": "code",
   "execution_count": 64,
   "metadata": {},
   "outputs": [
    {
     "ename": "KeyboardInterrupt",
     "evalue": "",
     "output_type": "error",
     "traceback": [
      "\u001b[1;31m---------------------------------------------------------------------------\u001b[0m",
      "\u001b[1;31mKeyboardInterrupt\u001b[0m                         Traceback (most recent call last)",
      "Cell \u001b[1;32mIn[64], line 4\u001b[0m\n\u001b[0;32m      1\u001b[0m characters \u001b[38;5;241m=\u001b[39m [\u001b[38;5;124m'\u001b[39m\u001b[38;5;124mHello kitty\u001b[39m\u001b[38;5;124m'\u001b[39m, \u001b[38;5;124m'\u001b[39m\u001b[38;5;124mGoku\u001b[39m\u001b[38;5;124m'\u001b[39m, \u001b[38;5;124m'\u001b[39m\u001b[38;5;124mPikachu\u001b[39m\u001b[38;5;124m'\u001b[39m, \u001b[38;5;124m'\u001b[39m\u001b[38;5;124mLuffy\u001b[39m\u001b[38;5;124m'\u001b[39m, \u001b[38;5;124m'\u001b[39m\u001b[38;5;124mYuji Itadori\u001b[39m\u001b[38;5;124m'\u001b[39m, \u001b[38;5;124m\"\u001b[39m\u001b[38;5;124mLevi\u001b[39m\u001b[38;5;124m\"\u001b[39m]\n\u001b[0;32m      2\u001b[0m longer_names \u001b[38;5;241m=\u001b[39m []\n\u001b[1;32m----> 4\u001b[0m \u001b[38;5;28;01mwhile\u001b[39;00m \u001b[38;5;28mlen\u001b[39m(characters) \u001b[38;5;241m>\u001b[39m\u001b[38;5;241m=\u001b[39m \u001b[38;5;241m6\u001b[39m:\n\u001b[0;32m      5\u001b[0m     longer_names\u001b[38;5;241m.\u001b[39mappend(characters)\n\u001b[0;32m      8\u001b[0m longer_names\n",
      "\u001b[1;31mKeyboardInterrupt\u001b[0m: "
     ]
    }
   ],
   "source": [
    "characters = ['Hello kitty', 'Goku', 'Pikachu', 'Luffy', 'Yuji Itadori', \"Levi\"]\n",
    "longer_names = []\n",
    "\n",
    "while len(characters) >= 6:\n",
    "    longer_names.append(characters)\n",
    "\n",
    "        \n",
    "longer_names"
   ]
  },
  {
   "cell_type": "markdown",
   "metadata": {},
   "source": [
    "## Task 2.2\n",
    "\n",
    "Calculate the total of shopping_items & apply tax of 10%\n",
    "\n",
    "```py\n",
    "shopping_items = [1000, 5000,  4000, 2000, 3000]\n",
    "```\n",
    "\n",
    "Expected Output\n",
    "\n",
    "```\n",
    "Your totals is 15,000\n",
    "Tax is 10%      1,500\n",
    "Your grand total is 16,500\n",
    "```"
   ]
  },
  {
   "cell_type": "code",
   "execution_count": 68,
   "metadata": {},
   "outputs": [
    {
     "name": "stdout",
     "output_type": "stream",
     "text": [
      "Your totals is  ¥15,000\n",
      "Tax is 10.0%     ¥1,500.0\n",
      "Your grand total is ¥16,500.0\n"
     ]
    }
   ],
   "source": [
    "shopping_items = [1000, 5000,  4000, 2000, 3000]\n",
    "total = 0\n",
    "tax_percent = 0.1\n",
    "\n",
    "for i in shopping_items:\n",
    "    total = total + i\n",
    "\n",
    "tax = total * tax_percent\n",
    "grand_total = total + tax\n",
    "print(f\"Your totals is  ¥{total:,}\")\n",
    "print(f\"Tax is {tax_percent * 100}%     ¥{tax:,}\")\n",
    "print(f\"Your grand total is ¥{grand_total:,}\")\n",
    "\n",
    "\n"
   ]
  },
  {
   "cell_type": "code",
   "execution_count": null,
   "metadata": {},
   "outputs": [
    {
     "name": "stdout",
     "output_type": "stream",
     "text": [
      "\n",
      "    Your totals is  {total:,}\n",
      "    Tax is {tax_percent * 100}%     ¥{(tax):,}\n",
      "    Your grand total is ¥{grand_total:,}\n",
      "\n"
     ]
    }
   ],
   "source": [
    "\n",
    "shopping_items = [1_000, 5_000,  4_000, 2_000, 3_000]\n",
    "total = 0\n",
    "tax_percent = 0.1\n",
    "\n",
    "for i in shopping_items:\n",
    "    total = total + i\n",
    "\n",
    "tax = total * tax_percent\n",
    "grand_total = total + tax\n",
    "print(f\"\"\"\n",
    "Your totals is  ¥{total:,}\n",
    "Tax is {tax_percent * 100}%     ¥{tax:,}\n",
    "Your grand total is ¥{grand_total:,}\n",
    "\"\"\")\n",
    "\n"
   ]
  }
 ],
 "metadata": {
  "kernelspec": {
   "display_name": "Python 3",
   "language": "python",
   "name": "python3"
  },
  "language_info": {
   "codemirror_mode": {
    "name": "ipython",
    "version": 3
   },
   "file_extension": ".py",
   "mimetype": "text/x-python",
   "name": "python",
   "nbconvert_exporter": "python",
   "pygments_lexer": "ipython3",
   "version": "3.13.0"
  }
 },
 "nbformat": 4,
 "nbformat_minor": 2
}
