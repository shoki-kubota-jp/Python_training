{
 "cells": [
  {
   "cell_type": "markdown",
   "metadata": {},
   "source": [
    "### control flow 2\n",
    "\n",
    "### Slice Operator\n",
    "`quote[start:end]`\n",
    "- Extarct part of a *string*\n",
    "- Arguments\n",
    "    - `end` value not **included**\n",
    "\n",
    "```py\n",
    "print(5)\n",
    "```"
   ]
  },
  {
   "cell_type": "markdown",
   "metadata": {},
   "source": [
    "# shortcut command\n",
    "\n",
    "1. vs\n",
    "    - `ctrl` + ` = close tarminal\n",
    "    - `ctrl` + / = coment out\n",
    "\n",
    "2. markdown\n",
    "    - ctrl + shift + enter = run\n",
    "\n",
    "2. windows\n",
    "    | ctrl + shift + s | print screen|\n",
    "    |-----|-----|\n",
    "    \n"
   ]
  },
  {
   "cell_type": "code",
   "execution_count": 25,
   "metadata": {},
   "outputs": [
    {
     "name": "stdout",
     "output_type": "stream",
     "text": [
      "Sorry, we ran out 3\n"
     ]
    }
   ],
   "source": [
    "fav_flavour = input(\"What can I for you ?\")  \n",
    "\n",
    "# Shop\n",
    "stock1 = \"chocolate mint\"\n",
    "stock2 = \"vanilla\"\n",
    "stock3 = \"coffee\"\n",
    "stock4 = \"green tea\"\n",
    "\n",
    "fav_flavour_lower = fav_flavour.lower()\n",
    "\n",
    "\n",
    "if fav_flavour_lower in [stock1, stock2, stock3, stock4]:\n",
    "    print(f\"Yes, we have {fav_flavour_lower} in stock\")\n",
    "else:\n",
    "    print(f\"Sorry, we ran out {fav_flavour_lower}\")"
   ]
  },
  {
   "cell_type": "markdown",
   "metadata": {},
   "source": [
    "## Loops\n",
    "Repeat set od statement\n",
    "\n",
    "### type od loop\n",
    "- `while` loop\n",
    "- `for` loop"
   ]
  },
  {
   "cell_type": "code",
   "execution_count": 26,
   "metadata": {},
   "outputs": [
    {
     "name": "stdout",
     "output_type": "stream",
     "text": [
      "aaa\n",
      "2\n",
      "aaa\n",
      "3\n"
     ]
    }
   ],
   "source": [
    "i = 1\n",
    "\n",
    "while i < 3:\n",
    "    print(\"aaa\")\n",
    "    i = i + 1\n",
    "    print(i)"
   ]
  },
  {
   "cell_type": "markdown",
   "metadata": {},
   "source": [
    "### Task 1.1\n",
    "\n",
    "#### Expected Output\n",
    "\n",
    "```output\n",
    "🔥\n",
    "🔥🔥\n",
    "🔥🔥🔥\n",
    "🔥🔥🔥🔥\n",
    "🔥🔥🔥🔥🔥\n",
    "```"
   ]
  },
  {
   "cell_type": "code",
   "execution_count": 27,
   "metadata": {},
   "outputs": [
    {
     "name": "stdout",
     "output_type": "stream",
     "text": [
      "🔥\n",
      "🔥🔥\n",
      "🔥🔥🔥\n",
      "🔥🔥🔥🔥\n",
      "🔥🔥🔥🔥🔥\n"
     ]
    }
   ],
   "source": [
    "i = 1\n",
    "while i <= 5:\n",
    "    print(\"🔥\" * i)\n",
    "    i = i + 1\n"
   ]
  },
  {
   "cell_type": "code",
   "execution_count": 30,
   "metadata": {},
   "outputs": [
    {
     "name": "stdout",
     "output_type": "stream",
     "text": [
      "d\n",
      "dd\n",
      "ddd\n",
      "dddd\n"
     ]
    }
   ],
   "source": [
    "\n",
    "i  = 1\n",
    "rows = int(input(\"please row\"))\n",
    "pattern = input(\"please emoji\")\n",
    "\n",
    "while i <= rows:\n",
    "    print(pattern * i)\n",
    "    i = i + 1\n"
   ]
  },
  {
   "cell_type": "code",
   "execution_count": null,
   "metadata": {},
   "outputs": [],
   "source": [
    "rows = int(input(\"please row\"))\n",
    "pattern = input(\"please emoji\")\n",
    "\n",
    "i = 1\n",
    "\n",
    "while i <= rows:\n",
    "    space = rows - i\n",
    "    print(\" \" * space + pattern * i)\n",
    "    i = i + 1\n"
   ]
  },
  {
   "cell_type": "markdown",
   "metadata": {},
   "source": [
    "### range(start,end)\n",
    "- start default 0"
   ]
  },
  {
   "cell_type": "code",
   "execution_count": null,
   "metadata": {},
   "outputs": [],
   "source": [
    "for i in range(1, 6):\n",
    "    print(i)"
   ]
  },
  {
   "cell_type": "code",
   "execution_count": 42,
   "metadata": {},
   "outputs": [
    {
     "name": "stdout",
     "output_type": "stream",
     "text": [
      "😎\n",
      "😎😎\n",
      "😎😎😎\n",
      "😎😎😎😎\n",
      "😎😎😎😎😎\n"
     ]
    }
   ],
   "source": [
    "for i in range(1, 6):\n",
    "    print(i * \"😎\")"
   ]
  },
  {
   "cell_type": "code",
   "execution_count": 44,
   "metadata": {},
   "outputs": [
    {
     "name": "stdout",
     "output_type": "stream",
     "text": [
      "r\n",
      "rr\n",
      "rrr\n",
      "rrrr\n"
     ]
    }
   ],
   "source": [
    "i  = 1\n",
    "rows = int(input(\"please row\"))\n",
    "pattern = input(\"please emoji\")\n",
    "\n",
    "for i in range(1, rows + 1):\n",
    "    print(pattern * i)\n"
   ]
  },
  {
   "cell_type": "code",
   "execution_count": null,
   "metadata": {},
   "outputs": [
    {
     "name": "stdout",
     "output_type": "stream",
     "text": [
      "    r\n",
      "   rr\n",
      "  rrr\n",
      " rrrr\n",
      "rrrrr\n"
     ]
    }
   ],
   "source": [
    "i  = 1\n",
    "rows = int(input(\"please row\"))\n",
    "pattern = input(\"please emoji\")\n",
    "\n",
    "for i in range(1, rows + 1):\n",
    "    space = rows - i\n",
    "    print(\" \" * space+pattern * i)"
   ]
  }
 ],
 "metadata": {
  "kernelspec": {
   "display_name": "Python 3",
   "language": "python",
   "name": "python3"
  },
  "language_info": {
   "codemirror_mode": {
    "name": "ipython",
    "version": 3
   },
   "file_extension": ".py",
   "mimetype": "text/x-python",
   "name": "python",
   "nbconvert_exporter": "python",
   "pygments_lexer": "ipython3",
   "version": "3.13.0"
  }
 },
 "nbformat": 4,
 "nbformat_minor": 2
}
