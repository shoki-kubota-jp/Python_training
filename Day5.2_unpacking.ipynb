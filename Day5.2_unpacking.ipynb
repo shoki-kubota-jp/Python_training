{
 "cells": [
  {
   "cell_type": "markdown",
   "metadata": {},
   "source": [
    "### Mutiple variable assignment"
   ]
  },
  {
   "cell_type": "code",
   "execution_count": null,
   "metadata": {},
   "outputs": [
    {
     "name": "stdout",
     "output_type": "stream",
     "text": [
      "10 10 10\n",
      "10 30 40\n"
     ]
    }
   ],
   "source": [
    "a = b = c = 10 # Mutiple variable assignment\n",
    "print(a, b, c)\n",
    "\n",
    "# unpacking\n",
    "d, e, f = 10, 30, 40 # Different values\n",
    "print(d, e, f)"
   ]
  },
  {
   "cell_type": "code",
   "execution_count": 4,
   "metadata": {},
   "outputs": [
    {
     "name": "stdout",
     "output_type": "stream",
     "text": [
      "10 30 40\n"
     ]
    }
   ],
   "source": [
    "d, e, f = (10, 30, 40)\n",
    "print(d, e, f)"
   ]
  },
  {
   "cell_type": "code",
   "execution_count": 5,
   "metadata": {},
   "outputs": [
    {
     "name": "stdout",
     "output_type": "stream",
     "text": [
      "80 100\n"
     ]
    }
   ],
   "source": [
    "# skip\n",
    "q, _, e = (80, 90, 100)\n",
    "print(q,e)"
   ]
  },
  {
   "cell_type": "code",
   "execution_count": null,
   "metadata": {},
   "outputs": [],
   "source": [
    "# Unpack only Batman & Superman\n",
    "[\"🦸‍♂️ Batman\", \"🦸‍♂️ Superman\", \"🦹‍♂️ Joker\", \"🦹‍♀️ Harley Quinn\"]"
   ]
  },
  {
   "cell_type": "code",
   "execution_count": 6,
   "metadata": {},
   "outputs": [
    {
     "name": "stdout",
     "output_type": "stream",
     "text": [
      "🦸‍♂️ Batman 🦸‍♂️ Superman\n"
     ]
    }
   ],
   "source": [
    "# Unpack only Batman & Superman\n",
    "b, s, j, h = (\"🦸‍♂️ Batman\", \"🦸‍♂️ Superman\", \"🦹‍♂️ Joker\", \"🦹‍♀️ Harley Quinn\")\n",
    "\n",
    "print(b,s)"
   ]
  },
  {
   "cell_type": "markdown",
   "metadata": {},
   "source": [
    "## Task 1.1 (Without Unpacking)\n",
    "\n",
    "points = [(3, 4), (6, 12) , (10, 13)]\n",
    "\n",
    "\n",
    "## Expected Output\n",
    "\n",
    "distances = [5, 13, 12.45]\n",
    "## Task 1.2 (With Unpacking)\n",
    "\n",
    "points = [(3, 4), (6, 12) , (10, 13)]\n",
    "\n",
    "\n",
    "## Expected Output\n",
    "\n",
    "distances = [5, 13, 12.45]"
   ]
  },
  {
   "cell_type": "code",
   "execution_count": null,
   "metadata": {},
   "outputs": [
    {
     "name": "stdout",
     "output_type": "stream",
     "text": [
      "[3, 6, 10]\n"
     ]
    }
   ],
   "source": [
    "points = [(3, 4), (6, 12) , (10, 13)]\n",
    "\n",
    "distances = [square(point[0] * point[0] + point[1] *point[1] ) for point in points] \n",
    "\n",
    "print(distances)\n",
    "\n",
    "# ratings = [book[\"rating\"] for book in books if book[\"genre\"].lower() == fav_genre.lower()]"
   ]
  }
 ],
 "metadata": {
  "kernelspec": {
   "display_name": "Python 3",
   "language": "python",
   "name": "python3"
  },
  "language_info": {
   "codemirror_mode": {
    "name": "ipython",
    "version": 3
   },
   "file_extension": ".py",
   "mimetype": "text/x-python",
   "name": "python",
   "nbconvert_exporter": "python",
   "pygments_lexer": "ipython3",
   "version": "3.13.0"
  }
 },
 "nbformat": 4,
 "nbformat_minor": 2
}
