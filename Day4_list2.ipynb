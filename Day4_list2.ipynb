{
 "cells": [
  {
   "cell_type": "markdown",
   "metadata": {},
   "source": [
    "### List to String(conversation)\n",
    "\n",
    "- join"
   ]
  },
  {
   "cell_type": "code",
   "execution_count": 33,
   "metadata": {},
   "outputs": [
    {
     "data": {
      "text/plain": [
       "'😎, 😊'"
      ]
     },
     "execution_count": 33,
     "metadata": {},
     "output_type": "execute_result"
    }
   ],
   "source": [
    "aaa = [\"😎\", \"😊\"]\n",
    "# change data type\n",
    "\n",
    "\", \".join(aaa)\n",
    "\n",
    "# for bbb in aaa:\n",
    "#     bbb = str(aaa)\n",
    "\n",
    "\n",
    "\n",
    "# print(str(aaa))\n",
    "# print(type(bbb))\n",
    "# print(bbb)\n",
    "\n",
    "\n",
    "\n"
   ]
  },
  {
   "cell_type": "markdown",
   "metadata": {},
   "source": [
    "### String to List(conversation)\n",
    "\n",
    "- sprit"
   ]
  },
  {
   "cell_type": "code",
   "execution_count": 34,
   "metadata": {},
   "outputs": [
    {
     "data": {
      "text/plain": [
       "['😎', ' 😊']"
      ]
     },
     "execution_count": 34,
     "metadata": {},
     "output_type": "execute_result"
    }
   ],
   "source": [
    "ccc = '😎, 😊'\n",
    "\n",
    "ccc.split(\",\")"
   ]
  },
  {
   "cell_type": "code",
   "execution_count": null,
   "metadata": {},
   "outputs": [
    {
     "name": "stdout",
     "output_type": "stream",
     "text": [
      "True\n",
      "True\n"
     ]
    }
   ],
   "source": [
    "nums1 = [100, 200]\n",
    "nums2 = [100, 200]\n",
    "nums3 = nums1\n",
    "\n",
    "print(nums1 == nums2)\n",
    "print(nums1 == nums3)"
   ]
  }
 ],
 "metadata": {
  "kernelspec": {
   "display_name": "Python 3",
   "language": "python",
   "name": "python3"
  },
  "language_info": {
   "codemirror_mode": {
    "name": "ipython",
    "version": 3
   },
   "file_extension": ".py",
   "mimetype": "text/x-python",
   "name": "python",
   "nbconvert_exporter": "python",
   "pygments_lexer": "ipython3",
   "version": "3.13.0"
  }
 },
 "nbformat": 4,
 "nbformat_minor": 2
}
