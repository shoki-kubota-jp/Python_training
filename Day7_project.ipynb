{
 "cells": [
  {
   "cell_type": "code",
   "execution_count": 21,
   "metadata": {},
   "outputs": [],
   "source": [
    "products = [\n",
    "    {\n",
    "        \"id\": 1,\n",
    "        \"name\": \"Laptop\",\n",
    "        \"price\": 999.99,\n",
    "        \"stock\": 10\n",
    "    },\n",
    "    {\n",
    "        \"id\": 2,\n",
    "        \"name\": \"Smartphone\",\n",
    "        \"price\": 499.99,\n",
    "        \"stock\": 15\n",
    "    }\n",
    "]\n"
   ]
  },
  {
   "cell_type": "markdown",
   "metadata": {},
   "source": [
    "viwe_all_product"
   ]
  },
  {
   "cell_type": "code",
   "execution_count": 9,
   "metadata": {},
   "outputs": [
    {
     "name": "stdout",
     "output_type": "stream",
     "text": [
      "+----+------------+--------+-------+\n",
      "| id |    name    | price  | stock |\n",
      "+----+------------+--------+-------+\n",
      "| 1  |   Laptop   | 999.99 |  10   |\n",
      "| 2  | Smartphone | 499.99 |  15   |\n",
      "+----+------------+--------+-------+\n"
     ]
    }
   ],
   "source": [
    "from tabulate import tabulate\n",
    "\n",
    "def viwe_all_product():\n",
    "    print(tabulate(products, headers=\"keys\", tablefmt=\"pretty\"))\n",
    "\n",
    "viwe_all_product()"
   ]
  },
  {
   "cell_type": "markdown",
   "metadata": {},
   "source": [
    "viwe_product"
   ]
  },
  {
   "cell_type": "code",
   "execution_count": null,
   "metadata": {},
   "outputs": [],
   "source": [
    "def viwe_product(id):\n",
    "    user_product = [products[\"id\"] for product in products if product[\"id\"] == id]\n",
    "    print(user_product)\n",
    "\n",
    "id = int(1)\n",
    "viwe_product(id)\n",
    "\n",
    "\n",
    "\n"
   ]
  },
  {
   "cell_type": "markdown",
   "metadata": {},
   "source": [
    "manage_product"
   ]
  },
  {
   "cell_type": "code",
   "execution_count": null,
   "metadata": {},
   "outputs": [],
   "source": [
    "from tabulate import tabulate\n",
    "\n",
    "\n",
    "def add_new_product(products):\n",
    "    while True:\n",
    "        item_id = int(input(\"What is the id? \"))\n",
    "        item_name = input(\"What is the product name? \")\n",
    "        item_price = float(input(\"What is the price? \"))\n",
    "        item_stock = int(input(\"What is the stock? \"))\n",
    "        new_item={\"id\": item_id, \"name\": item_name, \"price\": item_price, \"stock\": item_stock,}\n",
    "        products.append(new_item)\n",
    "        print(f\"Added {item_name} to products.\")\n",
    "        add_more = input(\"Do you want to add more Y/N\")\n",
    "        if add_more == \"N\":\n",
    "            break\n",
    "\n",
    "\n",
    "def update_products(products):\n",
    "    while True:\n",
    "        print(tabulate(products, headers=\"keys\", tablefmt=\"pretty\"))\n",
    "        item_id = int(input(\"What is the update product id? \"))\n",
    "        current_product_name = \n",
    "        update = int(input(\"update 1. name 2.price 3.stock\"))\n",
    "        item_name = input(\"current name is {current_product_name}. new name ?\")\n",
    "        item_price = float(input(\"current price is {item_price}. new price ?\"))\n",
    "        item_stock = int(input(\"current price is {item_stock}. new stock ?\"))\n",
    "        if update == 1:\n",
    "            for i in range(len(products)):\n",
    "                if products[i][\"id\"] == item_id:\n",
    "                    products[i]['name'] = item_name\n",
    "        elif update == 2:\n",
    "            for i in range(len(products)):\n",
    "                if products[i][\"id\"] == item_id:\n",
    "                    products[i]['price'] = item_price\n",
    "        elif update == 3:\n",
    "            for i in range(len(products)):\n",
    "                if products[i][\"id\"] == item_id:\n",
    "                    products[i]['stock'] = item_stock\n",
    "        else:\n",
    "            print(\"please press 1 or 2 or 3\")\n",
    "        add_more = input(\"Do you want to update more Y/N\")\n",
    "        if add_more == \"N\":\n",
    "            break\n",
    "\n",
    "\n",
    "# def manage_product():\n",
    "#     print(tabulate(products, headers=\"keys\", tablefmt=\"pretty\"))\n",
    "\n",
    "# viwe_all_product()"
   ]
  },
  {
   "cell_type": "code",
   "execution_count": null,
   "metadata": {},
   "outputs": [],
   "source": [
    "add_new_product(products)"
   ]
  },
  {
   "cell_type": "code",
   "execution_count": null,
   "metadata": {},
   "outputs": [],
   "source": [
    "update_products(products)"
   ]
  }
 ],
 "metadata": {
  "kernelspec": {
   "display_name": "myenv",
   "language": "python",
   "name": "python3"
  },
  "language_info": {
   "codemirror_mode": {
    "name": "ipython",
    "version": 3
   },
   "file_extension": ".py",
   "mimetype": "text/x-python",
   "name": "python",
   "nbconvert_exporter": "python",
   "pygments_lexer": "ipython3",
   "version": "3.13.0"
  }
 },
 "nbformat": 4,
 "nbformat_minor": 2
}
