{
 "cells": [
  {
   "cell_type": "markdown",
   "metadata": {},
   "source": [
    "## Functions\n",
    "- reuse logig\n",
    "- updata the logic in one place\n"
   ]
  },
  {
   "cell_type": "code",
   "execution_count": null,
   "metadata": {},
   "outputs": [],
   "source": [
    "t1 = 3\n",
    "t2 = 4\n",
    "\n",
    "t_sum = t1 + t2 # logic\n",
    "\n",
    "print(t_sum)"
   ]
  },
  {
   "cell_type": "markdown",
   "metadata": {},
   "source": [
    "### Difine Function"
   ]
  },
  {
   "cell_type": "code",
   "execution_count": null,
   "metadata": {},
   "outputs": [],
   "source": [
    "# logic\n",
    "def add(n1, n2):\n",
    "    n_sum = n1 + n2\n",
    "    return n_sum # return back to the call"
   ]
  },
  {
   "cell_type": "markdown",
   "metadata": {},
   "source": [
    "### Call the function"
   ]
  },
  {
   "cell_type": "code",
   "execution_count": 8,
   "metadata": {},
   "outputs": [
    {
     "data": {
      "text/plain": [
       "6"
      ]
     },
     "execution_count": 8,
     "metadata": {},
     "output_type": "execute_result"
    }
   ],
   "source": [
    "add(2, 4) # 2,6 = argument"
   ]
  },
  {
   "cell_type": "markdown",
   "metadata": {},
   "source": [
    "### Terms of function\n",
    "- function name\n",
    "- function body\n",
    "- parameter\n",
    "- argument\n",
    "- declaration\n",
    "- call\n",
    "\n",
    "- nimimamu parameter 0\n",
    "- argument any"
   ]
  },
  {
   "cell_type": "code",
   "execution_count": 25,
   "metadata": {},
   "outputs": [],
   "source": [
    "def fire(rows, emoji):\n",
    "    i = 1\n",
    "    while i <= rows:\n",
    "        print(emoji * i)\n",
    "        i = i + 1"
   ]
  },
  {
   "cell_type": "code",
   "execution_count": 27,
   "metadata": {},
   "outputs": [
    {
     "name": "stdout",
     "output_type": "stream",
     "text": [
      "😎\n",
      "😎😎\n",
      "😎😎😎\n",
      "😎😎😎😎\n",
      "😎😎😎😎😎\n"
     ]
    }
   ],
   "source": [
    "fire(5, \"😎\")"
   ]
  },
  {
   "cell_type": "markdown",
   "metadata": {},
   "source": [
    "Tasks\n",
    " \n",
    " 1. `get_total_items(shop)` -> 50\n",
    " 2. `get_shop_value(shop)` -> 19"
   ]
  },
  {
   "cell_type": "code",
   "execution_count": null,
   "metadata": {},
   "outputs": [
    {
     "data": {
      "text/plain": [
       "19.0"
      ]
     },
     "execution_count": 45,
     "metadata": {},
     "output_type": "execute_result"
    }
   ],
   "source": [
    "def get_total_items(shops):\n",
    "    total_items = [item[\"quantity\"] for item in shops]\n",
    "    return sum(total_items)\n",
    "\n",
    "def get_shop_value(shops):\n",
    "    shop_value = [item[\"price\"] * item[\"quantity\"]  for item in shops]\n",
    "    return sum(shop_value)\n"
   ]
  },
  {
   "cell_type": "code",
   "execution_count": null,
   "metadata": {},
   "outputs": [],
   "source": [
    "shop = [\n",
    "    {\"name\": \"Apple\", \"quantity\": 30, \"price\": 0.50}, # 15\n",
    "    {\"name\": \"Banana\", \"quantity\": 20, \"price\": 0.20}, # 4\n",
    "]"
   ]
  },
  {
   "cell_type": "code",
   "execution_count": null,
   "metadata": {},
   "outputs": [
    {
     "name": "stdout",
     "output_type": "stream",
     "text": [
      "50\n"
     ]
    }
   ],
   "source": [
    "print(get_total_items(shop))"
   ]
  },
  {
   "cell_type": "code",
   "execution_count": 48,
   "metadata": {},
   "outputs": [
    {
     "name": "stdout",
     "output_type": "stream",
     "text": [
      "19.0\n"
     ]
    }
   ],
   "source": [
    "print(get_shop_value(shop))"
   ]
  },
  {
   "cell_type": "markdown",
   "metadata": {},
   "source": [
    "## Task 1\n",
    "\n",
    "`add_new_product(shop)`\n",
    "\n",
    "\n",
    "Expected Output\n",
    "```\n",
    "What is the product name? Orange\n",
    "What is the quantity? 50\n",
    "What is the price? 0.30\n",
    "Added Orange to shop.\n",
    "```\n",
    "\n",
    "`print(shop)`"
   ]
  },
  {
   "cell_type": "code",
   "execution_count": null,
   "metadata": {},
   "outputs": [],
   "source": [
    "shop = [\n",
    "    {\"name\": \"Apple\", \"quantity\": 30, \"price\": 0.50}, # 15\n",
    "    {\"name\": \"Banana\", \"quantity\": 20, \"price\": 0.20}, # 4\n",
    "]"
   ]
  },
  {
   "cell_type": "code",
   "execution_count": 67,
   "metadata": {},
   "outputs": [],
   "source": [
    "def add_new_product(shops):\n",
    "    item_name = input(\"What is the product name? \")\n",
    "    item_quantity = int(input(\"What is the quantity? \"))\n",
    "    item_price = float(input(\"What is the price? \"))\n",
    "    new_item={}\n",
    "    new_item[\"name\"] = item_name\n",
    "    new_item[\"quantity\"] = item_quantity\n",
    "    new_item[\"price\"] = item_price\n",
    "\n",
    "    shops.append(new_item)\n",
    "\n",
    "    return print(f\"Added {item_name} to shop.\")\n",
    "\n",
    "\n",
    "\n",
    "def get_shop_value(shops):\n",
    "    shop_value = [item[\"price\"] * item[\"quantity\"]  for item in shops]\n",
    "    return sum(shop_value)"
   ]
  },
  {
   "cell_type": "code",
   "execution_count": 68,
   "metadata": {},
   "outputs": [
    {
     "name": "stdout",
     "output_type": "stream",
     "text": [
      "Added sasss to shop.\n",
      "[{'name': 'Apple', 'quantity': 30, 'price': 0.5}, {'name': 'Banana', 'quantity': 20, 'price': 0.2}, {'name': 'aa'}, {'name': 'sa', 'quantity': 2, 'price': 3.0}, {'name': 'sasss', 'quantity': 3, 'price': 0.5}]\n"
     ]
    }
   ],
   "source": [
    "add_new_product(shop)\n",
    "print(shop)"
   ]
  },
  {
   "cell_type": "markdown",
   "metadata": {},
   "source": [
    "## Task 2\n",
    "\n",
    "Do you add more Y/N? Y"
   ]
  },
  {
   "cell_type": "code",
   "execution_count": null,
   "metadata": {},
   "outputs": [],
   "source": [
    "def add_new_product_1(shops):\n",
    "    while True:\n",
    "        item_name = input(\"What is the product name? \")\n",
    "        item_quantity = int(input(\"What is the quantity? \"))\n",
    "        item_price = float(input(\"What is the price? \"))\n",
    "        new_item={\"name\": item_name, \"quantity\": item_quantity, \"price\": item_price}\n",
    "        shops.append(new_item)\n",
    "        print(f\"Added {item_name} to shop.\")\n",
    "        add_more = input(\"Do you want to add more Y/N\")\n",
    "        if add_more == \"N\":\n",
    "            break\n",
    "            \n"
   ]
  },
  {
   "cell_type": "code",
   "execution_count": 75,
   "metadata": {},
   "outputs": [
    {
     "name": "stdout",
     "output_type": "stream",
     "text": [
      "Please Y or N\n",
      "[{'name': 'Apple', 'quantity': 30, 'price': 0.5}, {'name': 'Banana', 'quantity': 20, 'price': 0.2}, {'name': 'aa'}, {'name': 'sa', 'quantity': 2, 'price': 3.0}, {'name': 'sasss', 'quantity': 3, 'price': 0.5}, {'name': 'das', 'quantity': 1, 'price': 3.0}, {'name': 'sa', 'quantity': 3, 'price': 5.0}]\n"
     ]
    }
   ],
   "source": [
    "add_new_product_1(shop)\n",
    "print(shop)\n"
   ]
  },
  {
   "cell_type": "markdown",
   "metadata": {},
   "source": [
    "## Task 3\n",
    "\n",
    "Main Menu\n",
    "1. Add Product\n",
    "2. Print all product in shop\n",
    "3. Exit"
   ]
  },
  {
   "cell_type": "code",
   "execution_count": 18,
   "metadata": {},
   "outputs": [],
   "source": [
    "def add_new_product_2(shops):\n",
    "    print(\"1. Add Product 2. Print all product in shop 3. Exit\")\n",
    "    while True:\n",
    "        add_more = input(\"1. Add Product 2. Print all product in shop 3. Exit\")\n",
    "        if add_more == \"1\":\n",
    "            add_new_product_1(shops)\n",
    "        elif add_more == \"2\":\n",
    "            print(shops)\n",
    "        elif add_more == \"3\":\n",
    "            break\n",
    "        else:\n",
    "            print(\"Please press 1 or 2 or 3\")\n",
    "            \n"
   ]
  },
  {
   "cell_type": "code",
   "execution_count": 21,
   "metadata": {},
   "outputs": [
    {
     "name": "stdout",
     "output_type": "stream",
     "text": [
      "1. Add Product 2. Print all product in shop 3. Exit\n",
      "Added orange to shop.\n",
      "Added kiw to shop.\n",
      "[{'name': 'Apple', 'quantity': 30, 'price': 0.5}, {'name': 'Banana', 'quantity': 20, 'price': 0.2}, {'name': 'orange', 'quantity': 10, 'price': 0.9}, {'name': 'kiw', 'quantity': 80, 'price': 0.7}]\n",
      "[{'name': 'Apple', 'quantity': 30, 'price': 0.5}, {'name': 'Banana', 'quantity': 20, 'price': 0.2}, {'name': 'orange', 'quantity': 10, 'price': 0.9}, {'name': 'kiw', 'quantity': 80, 'price': 0.7}]\n",
      "[{'name': 'Apple', 'quantity': 30, 'price': 0.5}, {'name': 'Banana', 'quantity': 20, 'price': 0.2}, {'name': 'orange', 'quantity': 10, 'price': 0.9}, {'name': 'kiw', 'quantity': 80, 'price': 0.7}]\n"
     ]
    }
   ],
   "source": [
    "shop = [\n",
    "    {\"name\": \"Apple\", \"quantity\": 30, \"price\": 0.50}, # 15\n",
    "    {\"name\": \"Banana\", \"quantity\": 20, \"price\": 0.20}, # 4\n",
    "]\n",
    "\n",
    "add_new_product_2(shop)"
   ]
  },
  {
   "cell_type": "code",
   "execution_count": null,
   "metadata": {},
   "outputs": [],
   "source": [
    "def sub_menu():\n",
    "    while True:\n",
    "        print(\"Hi 🍍\")\n",
    "        choice = input(\"Do you want to print again Y/N\")\n",
    "        if (choice == 'N'):\n",
    "            break\n",
    "\n",
    "sub_menu()"
   ]
  }
 ],
 "metadata": {
  "kernelspec": {
   "display_name": "Python 3",
   "language": "python",
   "name": "python3"
  },
  "language_info": {
   "codemirror_mode": {
    "name": "ipython",
    "version": 3
   },
   "file_extension": ".py",
   "mimetype": "text/x-python",
   "name": "python",
   "nbconvert_exporter": "python",
   "pygments_lexer": "ipython3",
   "version": "3.13.0"
  }
 },
 "nbformat": 4,
 "nbformat_minor": 2
}
